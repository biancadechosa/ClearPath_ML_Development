{
 "cells": [
  {
   "cell_type": "code",
   "execution_count": 1,
   "metadata": {},
   "outputs": [
    {
     "name": "stderr",
     "output_type": "stream",
     "text": [
      "\u001b[34m\u001b[1mdetect: \u001b[0mweights=['yolov5s.pt'], source=../dataset/Images/train_preprocessed/000005.jpg, data=..\\data\\coco128.yaml, imgsz=[640, 640], conf_thres=0.5, iou_thres=0.45, max_det=1000, device=, view_img=False, save_txt=False, save_format=0, save_csv=False, save_conf=False, save_crop=False, nosave=False, classes=None, agnostic_nms=False, augment=False, visualize=False, update=False, project=..\\runs\\detect, name=exp, exist_ok=False, line_thickness=3, hide_labels=False, hide_conf=False, half=False, dnn=False, vid_stride=1\n",
      "YOLOv5  882c35f Python-3.11.9 torch-2.5.1+cpu CPU\n",
      "\n",
      "Downloading https://github.com/ultralytics/yolov5/releases/download/v7.0/yolov5s.pt to yolov5s.pt...\n",
      "\n",
      "  0%|          | 0.00/14.1M [00:00<?, ?B/s]\n",
      "  7%|▋         | 1.00M/14.1M [00:00<00:01, 9.61MB/s]\n",
      " 13%|█▎        | 1.88M/14.1M [00:20<00:01, 9.61MB/s]\n",
      " 14%|█▍        | 2.00M/14.1M [00:29<03:32, 59.7kB/s]\n",
      " 23%|██▎       | 3.25M/14.1M [00:29<01:33, 122kB/s] \n",
      " 32%|███▏      | 4.50M/14.1M [00:30<00:48, 209kB/s]\n",
      " 42%|████▏     | 5.88M/14.1M [00:30<00:25, 345kB/s]\n",
      " 50%|█████     | 7.12M/14.1M [00:30<00:14, 516kB/s]\n",
      " 64%|██████▎   | 9.00M/14.1M [00:30<00:06, 876kB/s]\n",
      " 79%|███████▉  | 11.1M/14.1M [00:30<00:02, 1.44MB/s]\n",
      " 97%|█████████▋| 13.8M/14.1M [00:30<00:00, 2.37MB/s]\n",
      "100%|██████████| 14.1M/14.1M [00:30<00:00, 483kB/s] \n",
      "\n",
      "Fusing layers... \n",
      "YOLOv5s summary: 213 layers, 7225885 parameters, 0 gradients, 16.4 GFLOPs\n",
      "image 1/1 C:\\Users\\MyPc\\ML_Development\\dataset\\Images\\train_preprocessed\\000005.jpg: 640x640 3 chairs, 1 clock, 733.9ms\n",
      "Speed: 10.9ms pre-process, 733.9ms inference, 4.5ms NMS per image at shape (1, 3, 640, 640)\n",
      "Results saved to \u001b[1m..\\runs\\detect\\exp\u001b[0m\n"
     ]
    }
   ],
   "source": [
    "!python ../detect.py --source ../dataset/Images/train_preprocessed/000005.jpg --weights yolov5s.pt --conf 0.5"
   ]
  },
  {
   "cell_type": "code",
   "execution_count": 3,
   "metadata": {},
   "outputs": [
    {
     "name": "stdout",
     "output_type": "stream",
     "text": [
      "^C\n"
     ]
    }
   ],
   "source": [
    "!python ../train.py --img 640 --batch +16 --epochs 50 --data ../data/clearpath.yaml --weights yolov5s.pt --device cpu"
   ]
  }
 ],
 "metadata": {
  "kernelspec": {
   "display_name": "clearpath_venv",
   "language": "python",
   "name": "python3"
  },
  "language_info": {
   "codemirror_mode": {
    "name": "ipython",
    "version": 3
   },
   "file_extension": ".py",
   "mimetype": "text/x-python",
   "name": "python",
   "nbconvert_exporter": "python",
   "pygments_lexer": "ipython3",
   "version": "3.11.9"
  }
 },
 "nbformat": 4,
 "nbformat_minor": 2
}
